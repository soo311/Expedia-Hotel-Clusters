{
 "cells": [
  {
   "cell_type": "code",
   "execution_count": 1,
   "metadata": {
    "collapsed": true
   },
   "outputs": [],
   "source": [
    "import numpy as np\n",
    "import pandas as pd\n",
    "import matplotlib.pyplot as plt\n",
    "%matplotlib inline\n",
    "plt.style.use('ggplot')\n",
    "import seaborn as sns"
   ]
  },
  {
   "cell_type": "markdown",
   "metadata": {},
   "source": [
    "# 1. Exploratory Data Analysis"
   ]
  },
  {
   "cell_type": "code",
   "execution_count": 2,
   "metadata": {
    "collapsed": false
   },
   "outputs": [],
   "source": [
    "train = pd.read_csv('train.csv', sep=',')\n",
    "#test = pd.read_csv('test.csv',sep=',')"
   ]
  },
  {
   "cell_type": "code",
   "execution_count": 3,
   "metadata": {
    "collapsed": false
   },
   "outputs": [
    {
     "name": "stdout",
     "output_type": "stream",
     "text": [
      "size of the data: (26941500, 25)\n"
     ]
    }
   ],
   "source": [
    "print(\"size of the data:\",train.shape)\n"
   ]
  },
  {
   "cell_type": "code",
   "execution_count": 4,
   "metadata": {
    "collapsed": false,
    "scrolled": false
   },
   "outputs": [
    {
     "data": {
      "text/html": [
       "<div>\n",
       "<table border=\"1\" class=\"dataframe\">\n",
       "  <thead>\n",
       "    <tr style=\"text-align: right;\">\n",
       "      <th></th>\n",
       "      <th>Unnamed: 0</th>\n",
       "      <th>date_time</th>\n",
       "      <th>site_name</th>\n",
       "      <th>posa_continent</th>\n",
       "      <th>user_location_country</th>\n",
       "      <th>user_location_region</th>\n",
       "      <th>user_location_city</th>\n",
       "      <th>orig_destination_distance</th>\n",
       "      <th>user_id</th>\n",
       "      <th>is_mobile</th>\n",
       "      <th>...</th>\n",
       "      <th>srch_children_cnt</th>\n",
       "      <th>srch_rm_cnt</th>\n",
       "      <th>srch_destination_id</th>\n",
       "      <th>srch_destination_type_id</th>\n",
       "      <th>is_booking</th>\n",
       "      <th>cnt</th>\n",
       "      <th>hotel_continent</th>\n",
       "      <th>hotel_country</th>\n",
       "      <th>hotel_market</th>\n",
       "      <th>hotel_cluster</th>\n",
       "    </tr>\n",
       "  </thead>\n",
       "  <tbody>\n",
       "    <tr>\n",
       "      <th>0</th>\n",
       "      <td>11576644</td>\n",
       "      <td>2013-01-30 09:48:21</td>\n",
       "      <td>2</td>\n",
       "      <td>3</td>\n",
       "      <td>85</td>\n",
       "      <td>235</td>\n",
       "      <td>43454</td>\n",
       "      <td>NaN</td>\n",
       "      <td>112239</td>\n",
       "      <td>0</td>\n",
       "      <td>...</td>\n",
       "      <td>0</td>\n",
       "      <td>1</td>\n",
       "      <td>8263</td>\n",
       "      <td>1</td>\n",
       "      <td>0</td>\n",
       "      <td>3</td>\n",
       "      <td>6</td>\n",
       "      <td>17</td>\n",
       "      <td>23</td>\n",
       "      <td>82</td>\n",
       "    </tr>\n",
       "    <tr>\n",
       "      <th>1</th>\n",
       "      <td>29520606</td>\n",
       "      <td>2014-11-23 22:37:12</td>\n",
       "      <td>2</td>\n",
       "      <td>3</td>\n",
       "      <td>66</td>\n",
       "      <td>442</td>\n",
       "      <td>76</td>\n",
       "      <td>4740.8784</td>\n",
       "      <td>586999</td>\n",
       "      <td>0</td>\n",
       "      <td>...</td>\n",
       "      <td>0</td>\n",
       "      <td>1</td>\n",
       "      <td>12623</td>\n",
       "      <td>5</td>\n",
       "      <td>0</td>\n",
       "      <td>1</td>\n",
       "      <td>6</td>\n",
       "      <td>170</td>\n",
       "      <td>313</td>\n",
       "      <td>22</td>\n",
       "    </tr>\n",
       "    <tr>\n",
       "      <th>2</th>\n",
       "      <td>33049478</td>\n",
       "      <td>2014-12-28 16:25:08</td>\n",
       "      <td>2</td>\n",
       "      <td>3</td>\n",
       "      <td>66</td>\n",
       "      <td>442</td>\n",
       "      <td>35390</td>\n",
       "      <td>647.8278</td>\n",
       "      <td>407093</td>\n",
       "      <td>0</td>\n",
       "      <td>...</td>\n",
       "      <td>0</td>\n",
       "      <td>1</td>\n",
       "      <td>4476</td>\n",
       "      <td>3</td>\n",
       "      <td>0</td>\n",
       "      <td>1</td>\n",
       "      <td>2</td>\n",
       "      <td>50</td>\n",
       "      <td>842</td>\n",
       "      <td>7</td>\n",
       "    </tr>\n",
       "    <tr>\n",
       "      <th>3</th>\n",
       "      <td>17432446</td>\n",
       "      <td>2014-05-28 09:23:46</td>\n",
       "      <td>34</td>\n",
       "      <td>3</td>\n",
       "      <td>205</td>\n",
       "      <td>354</td>\n",
       "      <td>51792</td>\n",
       "      <td>NaN</td>\n",
       "      <td>576076</td>\n",
       "      <td>0</td>\n",
       "      <td>...</td>\n",
       "      <td>0</td>\n",
       "      <td>1</td>\n",
       "      <td>14875</td>\n",
       "      <td>1</td>\n",
       "      <td>0</td>\n",
       "      <td>1</td>\n",
       "      <td>2</td>\n",
       "      <td>198</td>\n",
       "      <td>750</td>\n",
       "      <td>32</td>\n",
       "    </tr>\n",
       "    <tr>\n",
       "      <th>4</th>\n",
       "      <td>21390045</td>\n",
       "      <td>2014-07-07 18:15:12</td>\n",
       "      <td>2</td>\n",
       "      <td>3</td>\n",
       "      <td>66</td>\n",
       "      <td>311</td>\n",
       "      <td>31206</td>\n",
       "      <td>394.5247</td>\n",
       "      <td>849220</td>\n",
       "      <td>0</td>\n",
       "      <td>...</td>\n",
       "      <td>0</td>\n",
       "      <td>3</td>\n",
       "      <td>8291</td>\n",
       "      <td>1</td>\n",
       "      <td>0</td>\n",
       "      <td>1</td>\n",
       "      <td>2</td>\n",
       "      <td>50</td>\n",
       "      <td>191</td>\n",
       "      <td>91</td>\n",
       "    </tr>\n",
       "    <tr>\n",
       "      <th>5</th>\n",
       "      <td>37315050</td>\n",
       "      <td>2014-07-10 12:22:02</td>\n",
       "      <td>17</td>\n",
       "      <td>1</td>\n",
       "      <td>133</td>\n",
       "      <td>19</td>\n",
       "      <td>18022</td>\n",
       "      <td>NaN</td>\n",
       "      <td>1126166</td>\n",
       "      <td>0</td>\n",
       "      <td>...</td>\n",
       "      <td>0</td>\n",
       "      <td>1</td>\n",
       "      <td>8266</td>\n",
       "      <td>1</td>\n",
       "      <td>1</td>\n",
       "      <td>1</td>\n",
       "      <td>2</td>\n",
       "      <td>50</td>\n",
       "      <td>411</td>\n",
       "      <td>37</td>\n",
       "    </tr>\n",
       "    <tr>\n",
       "      <th>6</th>\n",
       "      <td>31994780</td>\n",
       "      <td>2013-11-28 08:50:57</td>\n",
       "      <td>2</td>\n",
       "      <td>3</td>\n",
       "      <td>66</td>\n",
       "      <td>174</td>\n",
       "      <td>47451</td>\n",
       "      <td>NaN</td>\n",
       "      <td>1033277</td>\n",
       "      <td>0</td>\n",
       "      <td>...</td>\n",
       "      <td>0</td>\n",
       "      <td>1</td>\n",
       "      <td>30793</td>\n",
       "      <td>4</td>\n",
       "      <td>0</td>\n",
       "      <td>2</td>\n",
       "      <td>2</td>\n",
       "      <td>50</td>\n",
       "      <td>666</td>\n",
       "      <td>73</td>\n",
       "    </tr>\n",
       "  </tbody>\n",
       "</table>\n",
       "<p>7 rows × 25 columns</p>\n",
       "</div>"
      ],
      "text/plain": [
       "   Unnamed: 0            date_time  site_name  posa_continent  \\\n",
       "0    11576644  2013-01-30 09:48:21          2               3   \n",
       "1    29520606  2014-11-23 22:37:12          2               3   \n",
       "2    33049478  2014-12-28 16:25:08          2               3   \n",
       "3    17432446  2014-05-28 09:23:46         34               3   \n",
       "4    21390045  2014-07-07 18:15:12          2               3   \n",
       "5    37315050  2014-07-10 12:22:02         17               1   \n",
       "6    31994780  2013-11-28 08:50:57          2               3   \n",
       "\n",
       "   user_location_country  user_location_region  user_location_city  \\\n",
       "0                     85                   235               43454   \n",
       "1                     66                   442                  76   \n",
       "2                     66                   442               35390   \n",
       "3                    205                   354               51792   \n",
       "4                     66                   311               31206   \n",
       "5                    133                    19               18022   \n",
       "6                     66                   174               47451   \n",
       "\n",
       "   orig_destination_distance  user_id  is_mobile      ...        \\\n",
       "0                        NaN   112239          0      ...         \n",
       "1                  4740.8784   586999          0      ...         \n",
       "2                   647.8278   407093          0      ...         \n",
       "3                        NaN   576076          0      ...         \n",
       "4                   394.5247   849220          0      ...         \n",
       "5                        NaN  1126166          0      ...         \n",
       "6                        NaN  1033277          0      ...         \n",
       "\n",
       "   srch_children_cnt  srch_rm_cnt srch_destination_id  \\\n",
       "0                  0            1                8263   \n",
       "1                  0            1               12623   \n",
       "2                  0            1                4476   \n",
       "3                  0            1               14875   \n",
       "4                  0            3                8291   \n",
       "5                  0            1                8266   \n",
       "6                  0            1               30793   \n",
       "\n",
       "  srch_destination_type_id  is_booking  cnt  hotel_continent  hotel_country  \\\n",
       "0                        1           0    3                6             17   \n",
       "1                        5           0    1                6            170   \n",
       "2                        3           0    1                2             50   \n",
       "3                        1           0    1                2            198   \n",
       "4                        1           0    1                2             50   \n",
       "5                        1           1    1                2             50   \n",
       "6                        4           0    2                2             50   \n",
       "\n",
       "   hotel_market  hotel_cluster  \n",
       "0            23             82  \n",
       "1           313             22  \n",
       "2           842              7  \n",
       "3           750             32  \n",
       "4           191             91  \n",
       "5           411             37  \n",
       "6           666             73  \n",
       "\n",
       "[7 rows x 25 columns]"
      ]
     },
     "execution_count": 4,
     "metadata": {},
     "output_type": "execute_result"
    }
   ],
   "source": [
    "train.head(n=7)"
   ]
  },
  {
   "cell_type": "code",
   "execution_count": 5,
   "metadata": {
    "collapsed": false,
    "scrolled": true
   },
   "outputs": [],
   "source": [
    "# converting date_time to type (datetime) instead of string \n",
    "#train['date_time']=pd.to_datetime(train['date_time'],infer_datetime_format=True)\n",
    "#train['srch_ci']=pd.to_datetime(train['srch_ci'],infer_datetime_format=True)\n",
    "#train['srch_co']=pd.to_datetime(train['srch_co'],infer_datetime_format=True)\n",
    "\n",
    "#train.dtypes"
   ]
  },
  {
   "cell_type": "code",
   "execution_count": 6,
   "metadata": {
    "collapsed": false
   },
   "outputs": [
    {
     "data": {
      "text/plain": [
       "Index(['Unnamed: 0', 'date_time', 'site_name', 'posa_continent',\n",
       "       'user_location_country', 'user_location_region', 'user_location_city',\n",
       "       'orig_destination_distance', 'user_id', 'is_mobile', 'is_package',\n",
       "       'channel', 'srch_ci', 'srch_co', 'srch_adults_cnt', 'srch_children_cnt',\n",
       "       'srch_rm_cnt', 'srch_destination_id', 'srch_destination_type_id',\n",
       "       'is_booking', 'cnt', 'hotel_continent', 'hotel_country', 'hotel_market',\n",
       "       'hotel_cluster'],\n",
       "      dtype='object')"
      ]
     },
     "execution_count": 6,
     "metadata": {},
     "output_type": "execute_result"
    }
   ],
   "source": [
    "train.columns"
   ]
  },
  {
   "cell_type": "code",
   "execution_count": 7,
   "metadata": {
    "collapsed": false
   },
   "outputs": [
    {
     "data": {
      "text/plain": [
       "array([ 0,  1,  2,  3,  4,  5,  6,  7,  8,  9, 10, 11, 12, 13, 14, 15, 16,\n",
       "       17, 18, 19, 20, 21, 22, 23, 24, 25, 26, 27, 28, 29, 30, 31, 32, 33,\n",
       "       34, 35, 36, 37, 38, 39, 40, 41, 42, 43, 44, 45, 46, 47, 48, 49, 50,\n",
       "       51, 52, 53, 54, 55, 56, 57, 58, 59, 60, 61, 62, 63, 64, 65, 66, 67,\n",
       "       68, 69, 70, 71, 72, 73, 74, 75, 76, 77, 78, 79, 80, 81, 82, 83, 84,\n",
       "       85, 86, 87, 88, 89, 90, 91, 92, 93, 94, 95, 96, 97, 98, 99])"
      ]
     },
     "execution_count": 7,
     "metadata": {},
     "output_type": "execute_result"
    }
   ],
   "source": [
    "hotel_cluster = train['hotel_cluster'].unique()\n",
    "np.sort(hotel_cluster)"
   ]
  },
  {
   "cell_type": "code",
   "execution_count": 8,
   "metadata": {
    "collapsed": false
   },
   "outputs": [
    {
     "data": {
      "text/plain": [
       "count    2.694150e+07\n",
       "mean     4.980311e+01\n",
       "std      2.891860e+01\n",
       "min      0.000000e+00\n",
       "25%      2.500000e+01\n",
       "50%      4.900000e+01\n",
       "75%      7.300000e+01\n",
       "max      9.900000e+01\n",
       "Name: hotel_cluster, dtype: float64"
      ]
     },
     "execution_count": 8,
     "metadata": {},
     "output_type": "execute_result"
    }
   ],
   "source": [
    "train['hotel_cluster'].describe()"
   ]
  },
  {
   "cell_type": "code",
   "execution_count": 9,
   "metadata": {
    "collapsed": false,
    "scrolled": true
   },
   "outputs": [
    {
     "name": "stdout",
     "output_type": "stream",
     "text": [
      "Column Name:  Unnamed: 0\n",
      "[11576644 29520606 33049478 ...,  5228215  7511623 37240708]\n",
      "Column Name:  date_time\n",
      "['2013-01-30 09:48:21' '2014-11-23 22:37:12' '2014-12-28 16:25:08' ...,\n",
      " '2013-09-28 14:12:09' '2014-07-19 23:09:32' '2014-03-02 10:01:07']\n",
      "Column Name:  site_name\n",
      "[ 2 34 17 37 11 24  8 33 13 22 26 53 18 30 23 28 29 27 25 35 15 10 45 14 32\n",
      "  7 46  9 40 43 36  6 38 21 16 20 48 31 44 19 47 41  5  4  3]\n",
      "Column Name:  posa_continent\n",
      "[3 1 2 4 0]\n",
      "Column Name:  user_location_country\n",
      "[ 85  66 205 133 103  69   3  63 194  48  77 231 202  46   0 215 119  23\n",
      " 235  19 196  27 117 158 115 195 154   1 149 123  30  68  80  52 167  12\n",
      "  70  55  75 182 214 163  39 162  62 130 191 104  26 131  28   5  91 198\n",
      " 179  32  57  71 218 181 190 230  58  83  82  22  24  50  29 229  60  59\n",
      " 148  61 168  93  51  54 192  11 176  73 197   8  98 134 217  87 188 178\n",
      "  76  95 180 151   4   6 141 206 144 174  45  47 101  72 108  65 223 239\n",
      "  74 156  36 105 183 106 221  40 234 137 209 187 219  10 173 109  44 125\n",
      " 233  34 150  20  64 157 152  37 226 225 200  92  43 142 129 185 189 112\n",
      " 146 143 228 124 118  15 155 114  41  16 111  99  67  25 208 238 222  97\n",
      " 169  49 166 116 122  17  31  78 159 100  56 211  96 126  35 237 210 136\n",
      " 236 121 213  33 165  79  38 220 175 172 216 184  89 153  18 127  42  13\n",
      " 128 193 113  90 147 161 107  86 110 186 212   9  21  81 227 224 199 132\n",
      " 207 139  84  53 160 232 170 145 204 171 135 201 203 140 164   7 138 102\n",
      "  88  94 120]\n",
      "Column Name:  user_location_region\n",
      "[235 442 354 ..., 277 905 698]\n",
      "Column Name:  user_location_city\n",
      "[43454    76 35390 ...,  1335 45700 11531]\n",
      "Column Name:  orig_destination_distance\n",
      "[       nan  4740.8784   647.8278 ...,    30.7578   356.0405   847.8612]\n",
      "Column Name:  user_id\n",
      "[ 112239  586999  407093 ..., 1178385 1010385  519659]\n",
      "Column Name:  is_mobile\n",
      "[0 1]\n",
      "Column Name:  is_package\n",
      "[0 1]\n",
      "Column Name:  channel\n",
      "[ 3  4  9  0  5  1  2  7  6  8 10]\n",
      "Column Name:  srch_ci\n",
      "['2013-04-11' '2014-12-25' '2014-12-29' ..., '2016-04-23' '2016-05-12'\n",
      " '2016-03-28']\n",
      "Column Name:  srch_co\n",
      "['2013-04-13' '2014-12-27' '2014-12-30' ..., '2016-06-20' '2026-03-13'\n",
      " '2012-12-30']\n",
      "Column Name:  srch_adults_cnt\n",
      "[2 1 6 3 4 5 8 7 9 0]\n",
      "Column Name:  srch_children_cnt\n",
      "[0 1 2 3 4 6 5 7 8 9]\n",
      "Column Name:  srch_rm_cnt\n",
      "[1 3 4 2 5 7 8 6 0]\n",
      "Column Name:  srch_destination_id\n",
      "[ 8263 12623  4476 ..., 59117 55465 64529]\n",
      "Column Name:  srch_destination_type_id\n",
      "[1 5 3 4 6 8 7 9 0 2]\n",
      "Column Name:  is_booking\n",
      "[0 1]\n",
      "Column Name:  cnt\n",
      "[  3   1   2   6   4   5  24   8   7  10  22  12   9  14  11  26  18  15\n",
      "  21  30  13  17  16  19  23  39  20  28  35  25  40  33  29  27  31  42\n",
      "  32  43  34  36  56  51  38  49  52  44  37  45  53  78  46  48 186  47\n",
      "  76 157  62  59  41 107  77  55  57  54  50 247  64  58  66 113 120  60\n",
      " 261 140  85  61  99  67  86  70  63  88  81  83  68 111 245  79 118  73\n",
      "  72  95  75  69]\n",
      "Column Name:  hotel_continent\n",
      "[6 2 4 0 5 3 1]\n",
      "Column Name:  hotel_country\n",
      "[ 17 170  50 198  32  68  47 119  70  63 122  31  46  92   0 204  77 105\n",
      " 118  48 151 126   5   8 203 104  99 163  22 171 100 128 140 144 186  82\n",
      " 182 152 107 162  13  88  98 106 196   7 208  34 135  67 121 169 168  35\n",
      "  51  96 110 127  93 146 137 174  21 124  36 194  11  15 130  80  64  79\n",
      " 141   2  52  87   4   1  43 156 136 180 199  26 132  60  73  45 125 160\n",
      " 200 115  12 192 193  25  16  58  28 112 108 111 185 131  57 134 129  27\n",
      " 153 103 157 211 202   9  20 116 206 189 147  66  84 148  81  78  76 159\n",
      "  42  38 201  30 158  89  14  95 102 161 165 142 188  71   3 179  83 114\n",
      "  23 212  19 210  53  61  18 184  74  44 150 123 143  29  24 155 133  55\n",
      " 139  69  72 190 117 197  10  39 166 191 145 205  33 183  75   6  54 101\n",
      " 209  91 181 177 154 109 167 120 149  37  94 173  59  97  49  40  56 176\n",
      " 138 164 207  41 113 178 187 195  65  62  85  86  90 175]\n",
      "Column Name:  hotel_market\n",
      "[  23  313  842 ..., 2040  373 1959]\n",
      "Column Name:  hotel_cluster\n",
      "[82 22  7 32 91 37 73  0 97 29 88 39 27 70 95 20 90 55 14 72 46 56 67 98  5\n",
      " 71 80 54  8 21 81 52  3 60 83 58 36 31 62 64 57 10 99 77 28  2  6 33 44  1\n",
      " 65 24 47  9 48 16 68 59 41 92 34 30 42 85 11 69 79 12 17 38 96 51 25 13 45\n",
      " 93 61 40 15 50 74  4 78 53 18 66 26 23 75 63 94 19 43 49 76 86 89 84 35 87]\n"
     ]
    }
   ],
   "source": [
    "for columns in train:\n",
    "    print ('Column Name: ',columns)\n",
    "    print (train[columns].unique())"
   ]
  },
  {
   "cell_type": "markdown",
   "metadata": {},
   "source": [
    "### Managing the Missing Data "
   ]
  },
  {
   "cell_type": "code",
   "execution_count": 10,
   "metadata": {
    "collapsed": false
   },
   "outputs": [
    {
     "data": {
      "text/plain": [
       "Unnamed: 0                         0\n",
       "date_time                          0\n",
       "site_name                          0\n",
       "posa_continent                     0\n",
       "user_location_country              0\n",
       "user_location_region               0\n",
       "user_location_city                 0\n",
       "orig_destination_distance    9674092\n",
       "user_id                            0\n",
       "is_mobile                          0\n",
       "is_package                         0\n",
       "channel                            0\n",
       "srch_ci                        33505\n",
       "srch_co                        33505\n",
       "srch_adults_cnt                    0\n",
       "srch_children_cnt                  0\n",
       "srch_rm_cnt                        0\n",
       "srch_destination_id                0\n",
       "srch_destination_type_id           0\n",
       "is_booking                         0\n",
       "cnt                                0\n",
       "hotel_continent                    0\n",
       "hotel_country                      0\n",
       "hotel_market                       0\n",
       "hotel_cluster                      0\n",
       "dtype: int64"
      ]
     },
     "execution_count": 10,
     "metadata": {},
     "output_type": "execute_result"
    }
   ],
   "source": [
    "# Number of missing data \n",
    "train.isnull().sum(axis=0)"
   ]
  },
  {
   "cell_type": "code",
   "execution_count": 11,
   "metadata": {
    "collapsed": false
   },
   "outputs": [
    {
     "name": "stdout",
     "output_type": "stream",
     "text": [
      "size of the data without the missing data: (17247893, 25)\n"
     ]
    }
   ],
   "source": [
    "train_2 = train.dropna()\n",
    "print (\"size of the data without the missing data:\", train_2.shape)"
   ]
  },
  {
   "cell_type": "markdown",
   "metadata": {},
   "source": [
    "### Converting Check In date, and Check Out date"
   ]
  },
  {
   "cell_type": "code",
   "execution_count": 12,
   "metadata": {
    "collapsed": false
   },
   "outputs": [
    {
     "name": "stderr",
     "output_type": "stream",
     "text": [
      "/Users/soohyunlee/anaconda/lib/python3.6/site-packages/ipykernel/__main__.py:1: SettingWithCopyWarning: \n",
      "A value is trying to be set on a copy of a slice from a DataFrame.\n",
      "Try using .loc[row_indexer,col_indexer] = value instead\n",
      "\n",
      "See the caveats in the documentation: http://pandas.pydata.org/pandas-docs/stable/indexing.html#indexing-view-versus-copy\n",
      "  if __name__ == '__main__':\n",
      "/Users/soohyunlee/anaconda/lib/python3.6/site-packages/ipykernel/__main__.py:2: SettingWithCopyWarning: \n",
      "A value is trying to be set on a copy of a slice from a DataFrame.\n",
      "Try using .loc[row_indexer,col_indexer] = value instead\n",
      "\n",
      "See the caveats in the documentation: http://pandas.pydata.org/pandas-docs/stable/indexing.html#indexing-view-versus-copy\n",
      "  from ipykernel import kernelapp as app\n"
     ]
    }
   ],
   "source": [
    "train_2['ci_year']=train_2['srch_ci'].apply(lambda x: x[:4]).astype(int)\n",
    "train_2['co_year']=train_2['srch_co'].apply(lambda x: x[:4]).astype(int)"
   ]
  },
  {
   "cell_type": "code",
   "execution_count": 13,
   "metadata": {
    "collapsed": false
   },
   "outputs": [
    {
     "data": {
      "text/plain": [
       "array([2014, 2013, 2015, 2016, 2019])"
      ]
     },
     "execution_count": 13,
     "metadata": {},
     "output_type": "execute_result"
    }
   ],
   "source": [
    "train2=train_2[train_2['ci_year']<2020]\n",
    "train2['co_year'].unique()"
   ]
  },
  {
   "cell_type": "code",
   "execution_count": 14,
   "metadata": {
    "collapsed": false,
    "scrolled": true
   },
   "outputs": [
    {
     "data": {
      "text/plain": [
       "array([2014, 2013, 2015, 2016, 2018, 2012])"
      ]
     },
     "execution_count": 14,
     "metadata": {},
     "output_type": "execute_result"
    }
   ],
   "source": [
    "train2['ci_year'].unique()"
   ]
  },
  {
   "cell_type": "code",
   "execution_count": 15,
   "metadata": {
    "collapsed": false
   },
   "outputs": [
    {
     "name": "stderr",
     "output_type": "stream",
     "text": [
      "/Users/soohyunlee/anaconda/lib/python3.6/site-packages/ipykernel/__main__.py:1: SettingWithCopyWarning: \n",
      "A value is trying to be set on a copy of a slice from a DataFrame.\n",
      "Try using .loc[row_indexer,col_indexer] = value instead\n",
      "\n",
      "See the caveats in the documentation: http://pandas.pydata.org/pandas-docs/stable/indexing.html#indexing-view-versus-copy\n",
      "  if __name__ == '__main__':\n",
      "/Users/soohyunlee/anaconda/lib/python3.6/site-packages/ipykernel/__main__.py:2: SettingWithCopyWarning: \n",
      "A value is trying to be set on a copy of a slice from a DataFrame.\n",
      "Try using .loc[row_indexer,col_indexer] = value instead\n",
      "\n",
      "See the caveats in the documentation: http://pandas.pydata.org/pandas-docs/stable/indexing.html#indexing-view-versus-copy\n",
      "  from ipykernel import kernelapp as app\n"
     ]
    }
   ],
   "source": [
    "train2['srch_ci']=pd.to_datetime(train2['srch_ci'],infer_datetime_format=True)\n",
    "train2['srch_co']=pd.to_datetime(train2['srch_co'],infer_datetime_format=True)"
   ]
  },
  {
   "cell_type": "code",
   "execution_count": 16,
   "metadata": {
    "collapsed": false,
    "scrolled": false
   },
   "outputs": [
    {
     "name": "stderr",
     "output_type": "stream",
     "text": [
      "/Users/soohyunlee/anaconda/lib/python3.6/site-packages/ipykernel/__main__.py:1: SettingWithCopyWarning: \n",
      "A value is trying to be set on a copy of a slice from a DataFrame.\n",
      "Try using .loc[row_indexer,col_indexer] = value instead\n",
      "\n",
      "See the caveats in the documentation: http://pandas.pydata.org/pandas-docs/stable/indexing.html#indexing-view-versus-copy\n",
      "  if __name__ == '__main__':\n"
     ]
    }
   ],
   "source": [
    "train2['stay']= train2['srch_co']- train2['srch_ci']"
   ]
  },
  {
   "cell_type": "code",
   "execution_count": 17,
   "metadata": {
    "collapsed": false,
    "scrolled": true
   },
   "outputs": [
    {
     "name": "stderr",
     "output_type": "stream",
     "text": [
      "/Users/soohyunlee/anaconda/lib/python3.6/site-packages/ipykernel/__main__.py:1: SettingWithCopyWarning: \n",
      "A value is trying to be set on a copy of a slice from a DataFrame.\n",
      "Try using .loc[row_indexer,col_indexer] = value instead\n",
      "\n",
      "See the caveats in the documentation: http://pandas.pydata.org/pandas-docs/stable/indexing.html#indexing-view-versus-copy\n",
      "  if __name__ == '__main__':\n"
     ]
    }
   ],
   "source": [
    "train2['stay']=train2['stay'].apply(lambda x: x.days)"
   ]
  },
  {
   "cell_type": "code",
   "execution_count": 18,
   "metadata": {
    "collapsed": false
   },
   "outputs": [
    {
     "data": {
      "text/plain": [
       "Unnamed: 0                     int64\n",
       "site_name                      int64\n",
       "posa_continent                 int64\n",
       "user_location_country          int64\n",
       "user_location_region           int64\n",
       "user_location_city             int64\n",
       "orig_destination_distance    float64\n",
       "user_id                        int64\n",
       "is_mobile                      int64\n",
       "is_package                     int64\n",
       "channel                        int64\n",
       "srch_adults_cnt                int64\n",
       "srch_children_cnt              int64\n",
       "srch_rm_cnt                    int64\n",
       "srch_destination_id            int64\n",
       "srch_destination_type_id       int64\n",
       "is_booking                     int64\n",
       "cnt                            int64\n",
       "hotel_continent                int64\n",
       "hotel_country                  int64\n",
       "hotel_market                   int64\n",
       "hotel_cluster                  int64\n",
       "ci_year                        int64\n",
       "co_year                        int64\n",
       "stay                           int64\n",
       "dtype: object"
      ]
     },
     "execution_count": 18,
     "metadata": {},
     "output_type": "execute_result"
    }
   ],
   "source": [
    "train3 = train2.drop(['date_time','srch_ci','srch_co'],axis=1)\n",
    "train3.dtypes"
   ]
  },
  {
   "cell_type": "markdown",
   "metadata": {},
   "source": [
    "# 2. Splitting the data into Training data and Testing data "
   ]
  },
  {
   "cell_type": "code",
   "execution_count": 19,
   "metadata": {
    "collapsed": true
   },
   "outputs": [],
   "source": [
    "from sklearn.model_selection import train_test_split\n",
    "train, test = train_test_split(train3, test_size=0.2)"
   ]
  },
  {
   "cell_type": "code",
   "execution_count": 20,
   "metadata": {
    "collapsed": false
   },
   "outputs": [
    {
     "data": {
      "text/plain": [
       "(13798312, 25)"
      ]
     },
     "execution_count": 20,
     "metadata": {},
     "output_type": "execute_result"
    }
   ],
   "source": [
    "train.shape"
   ]
  },
  {
   "cell_type": "markdown",
   "metadata": {},
   "source": [
    "# 3. Unsupervised K-Means Clustering"
   ]
  },
  {
   "cell_type": "code",
   "execution_count": 21,
   "metadata": {
    "collapsed": true
   },
   "outputs": [],
   "source": [
    "from sklearn.cluster import KMeans"
   ]
  },
  {
   "cell_type": "code",
   "execution_count": 22,
   "metadata": {
    "collapsed": true
   },
   "outputs": [],
   "source": [
    "mat = train.as_matrix()"
   ]
  },
  {
   "cell_type": "code",
   "execution_count": 23,
   "metadata": {
    "collapsed": false
   },
   "outputs": [
    {
     "data": {
      "text/plain": [
       "array([3, 1, 0, ..., 3, 1, 4], dtype=int32)"
      ]
     },
     "execution_count": 23,
     "metadata": {},
     "output_type": "execute_result"
    }
   ],
   "source": [
    "kmeans = KMeans(n_clusters=5,random_state=0).fit(mat)\n",
    "kmeans.labels_"
   ]
  },
  {
   "cell_type": "code",
   "execution_count": 24,
   "metadata": {
    "collapsed": false
   },
   "outputs": [
    {
     "data": {
      "text/plain": [
       "array([[  3.39182401e+07,   6.42099211e+00,   2.90591839e+00,\n",
       "          8.88904484e+01,   3.10859891e+02,   2.81582591e+04,\n",
       "          1.96117215e+03,   5.96825155e+05,   1.37352120e-01,\n",
       "          2.46502908e-01,   6.02744433e+00,   2.03890330e+00,\n",
       "          3.49409426e-01,   1.10269610e+00,   1.43812101e+04,\n",
       "          2.63051748e+00,   8.18260218e-02,   1.47798025e+00,\n",
       "          2.88784374e+00,   7.43405656e+01,   6.17912785e+02,\n",
       "          4.98136913e+01,   2.01384433e+03,   2.01386630e+03,\n",
       "          3.28505914e+00],\n",
       "       [  3.80048700e+06,   6.26816418e+00,   2.89843397e+00,\n",
       "          8.82706251e+01,   3.11537719e+02,   2.80037698e+04,\n",
       "          1.96653695e+03,   5.87046794e+05,   1.35704896e-01,\n",
       "          2.43588132e-01,   5.99751671e+00,   2.04257298e+00,\n",
       "          3.49563776e-01,   1.10594466e+00,   1.43579421e+04,\n",
       "          2.62633032e+00,   8.24479573e-02,   1.47568712e+00,\n",
       "          2.89046640e+00,   7.39837680e+01,   6.20010627e+02,\n",
       "          4.98461094e+01,   2.01384985e+03,   2.01387286e+03,\n",
       "          3.26565639e+00],\n",
       "       [  1.89107321e+07,   6.60907760e+00,   2.90738765e+00,\n",
       "          9.00944122e+01,   3.11203026e+02,   2.81639898e+04,\n",
       "          1.95109993e+03,   5.89453573e+05,   1.38412158e-01,\n",
       "          2.48307136e-01,   5.98892051e+00,   2.04343164e+00,\n",
       "          3.49437789e-01,   1.10113710e+00,   1.43392508e+04,\n",
       "          2.61399048e+00,   8.12148585e-02,   1.47766429e+00,\n",
       "          2.88601364e+00,   7.44684516e+01,   6.17943614e+02,\n",
       "          4.98065302e+01,   2.01384852e+03,   2.01387043e+03,\n",
       "          3.28022705e+00],\n",
       "       [  2.64715415e+07,   5.94438503e+00,   2.89703922e+00,\n",
       "          8.60363491e+01,   3.12544195e+02,   2.79997517e+04,\n",
       "          1.98162175e+03,   6.11425099e+05,   1.35967947e-01,\n",
       "          2.39548327e-01,   5.99959473e+00,   2.03724819e+00,\n",
       "          3.53746070e-01,   1.10467145e+00,   1.44348141e+04,\n",
       "          2.63674007e+00,   8.31148510e-02,   1.47065192e+00,\n",
       "          2.91207171e+00,   7.39702920e+01,   6.21065067e+02,\n",
       "          4.99891112e+01,   2.01384566e+03,   2.01386795e+03,\n",
       "          3.26536533e+00],\n",
       "       [  1.13393137e+07,   5.92808320e+00,   2.90364186e+00,\n",
       "          8.62716553e+01,   3.11503243e+02,   2.79981264e+04,\n",
       "          1.98833415e+03,   6.05192146e+05,   1.36295118e-01,\n",
       "          2.41824497e-01,   6.00842063e+00,   2.03683727e+00,\n",
       "          3.48983348e-01,   1.10309538e+00,   1.43864727e+04,\n",
       "          2.62659208e+00,   8.28217249e-02,   1.47515986e+00,\n",
       "          2.89199143e+00,   7.38869409e+01,   6.21512812e+02,\n",
       "          5.00069836e+01,   2.01384335e+03,   2.01386610e+03,\n",
       "          3.27503554e+00]])"
      ]
     },
     "execution_count": 24,
     "metadata": {},
     "output_type": "execute_result"
    }
   ],
   "source": [
    "kmeans.cluster_centers_"
   ]
  }
 ],
 "metadata": {
  "kernelspec": {
   "display_name": "Python 3",
   "language": "python",
   "name": "python3"
  },
  "language_info": {
   "codemirror_mode": {
    "name": "ipython",
    "version": 3
   },
   "file_extension": ".py",
   "mimetype": "text/x-python",
   "name": "python",
   "nbconvert_exporter": "python",
   "pygments_lexer": "ipython3",
   "version": "3.6.0"
  }
 },
 "nbformat": 4,
 "nbformat_minor": 2
}
